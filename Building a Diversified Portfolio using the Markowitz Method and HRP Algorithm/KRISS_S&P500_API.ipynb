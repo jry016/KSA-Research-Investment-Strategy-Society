{
 "cells": [
  {
   "cell_type": "markdown",
   "id": "26f2b794",
   "metadata": {},
   "source": [
    "**KRISS API 불러오기 연습"
   ]
  },
  {
   "cell_type": "code",
   "execution_count": 18,
   "id": "55c3462f",
   "metadata": {},
   "outputs": [],
   "source": [
    "import numpy as np \n",
    "import pandas as pd \n",
    "import requests        #The requests library for HTTP requests in Python\n",
    "import scipy as stats\n",
    "import math "
   ]
  },
  {
   "cell_type": "code",
   "execution_count": 26,
   "id": "a7b112a1",
   "metadata": {},
   "outputs": [
    {
     "data": {
      "text/html": [
       "<div>\n",
       "<style scoped>\n",
       "    .dataframe tbody tr th:only-of-type {\n",
       "        vertical-align: middle;\n",
       "    }\n",
       "\n",
       "    .dataframe tbody tr th {\n",
       "        vertical-align: top;\n",
       "    }\n",
       "\n",
       "    .dataframe thead th {\n",
       "        text-align: right;\n",
       "    }\n",
       "</style>\n",
       "<table border=\"1\" class=\"dataframe\">\n",
       "  <thead>\n",
       "    <tr style=\"text-align: right;\">\n",
       "      <th></th>\n",
       "      <th>Ticker</th>\n",
       "    </tr>\n",
       "  </thead>\n",
       "  <tbody>\n",
       "    <tr>\n",
       "      <th>0</th>\n",
       "      <td>A</td>\n",
       "    </tr>\n",
       "    <tr>\n",
       "      <th>1</th>\n",
       "      <td>AAL</td>\n",
       "    </tr>\n",
       "    <tr>\n",
       "      <th>2</th>\n",
       "      <td>AAP</td>\n",
       "    </tr>\n",
       "    <tr>\n",
       "      <th>3</th>\n",
       "      <td>AAPL</td>\n",
       "    </tr>\n",
       "    <tr>\n",
       "      <th>4</th>\n",
       "      <td>ABBV</td>\n",
       "    </tr>\n",
       "    <tr>\n",
       "      <th>5</th>\n",
       "      <td>ABC</td>\n",
       "    </tr>\n",
       "    <tr>\n",
       "      <th>6</th>\n",
       "      <td>ABMD</td>\n",
       "    </tr>\n",
       "    <tr>\n",
       "      <th>7</th>\n",
       "      <td>ABT</td>\n",
       "    </tr>\n",
       "    <tr>\n",
       "      <th>8</th>\n",
       "      <td>ACN</td>\n",
       "    </tr>\n",
       "    <tr>\n",
       "      <th>9</th>\n",
       "      <td>ADBE</td>\n",
       "    </tr>\n",
       "  </tbody>\n",
       "</table>\n",
       "</div>"
      ],
      "text/plain": [
       "  Ticker\n",
       "0      A\n",
       "1    AAL\n",
       "2    AAP\n",
       "3   AAPL\n",
       "4   ABBV\n",
       "5    ABC\n",
       "6   ABMD\n",
       "7    ABT\n",
       "8    ACN\n",
       "9   ADBE"
      ]
     },
     "execution_count": 26,
     "metadata": {},
     "output_type": "execute_result"
    }
   ],
   "source": [
    "#stocks = pd.read_csv(\"sp_500_stocks.csv\")\n",
    "#stocks.head(10)"
   ]
  },
  {
   "cell_type": "code",
   "execution_count": 42,
   "id": "459a0eb4",
   "metadata": {},
   "outputs": [
    {
     "data": {
      "text/html": [
       "<div>\n",
       "<style scoped>\n",
       "    .dataframe tbody tr th:only-of-type {\n",
       "        vertical-align: middle;\n",
       "    }\n",
       "\n",
       "    .dataframe tbody tr th {\n",
       "        vertical-align: top;\n",
       "    }\n",
       "\n",
       "    .dataframe thead th {\n",
       "        text-align: right;\n",
       "    }\n",
       "</style>\n",
       "<table border=\"1\" class=\"dataframe\">\n",
       "  <thead>\n",
       "    <tr style=\"text-align: right;\">\n",
       "      <th></th>\n",
       "      <th>Ticker</th>\n",
       "    </tr>\n",
       "  </thead>\n",
       "  <tbody>\n",
       "    <tr>\n",
       "      <th>0</th>\n",
       "      <td>AAPL</td>\n",
       "    </tr>\n",
       "    <tr>\n",
       "      <th>1</th>\n",
       "      <td>MSFT</td>\n",
       "    </tr>\n",
       "    <tr>\n",
       "      <th>2</th>\n",
       "      <td>AMZN</td>\n",
       "    </tr>\n",
       "    <tr>\n",
       "      <th>3</th>\n",
       "      <td>TSLA</td>\n",
       "    </tr>\n",
       "    <tr>\n",
       "      <th>4</th>\n",
       "      <td>GOOGL</td>\n",
       "    </tr>\n",
       "    <tr>\n",
       "      <th>5</th>\n",
       "      <td>NVDA</td>\n",
       "    </tr>\n",
       "    <tr>\n",
       "      <th>6</th>\n",
       "      <td>META</td>\n",
       "    </tr>\n",
       "  </tbody>\n",
       "</table>\n",
       "</div>"
      ],
      "text/plain": [
       "  Ticker\n",
       "0   AAPL\n",
       "1   MSFT\n",
       "2   AMZN\n",
       "3   TSLA\n",
       "4  GOOGL\n",
       "5   NVDA\n",
       "6   META"
      ]
     },
     "execution_count": 42,
     "metadata": {},
     "output_type": "execute_result"
    }
   ],
   "source": [
    "stocks = pd.DataFrame(['AAPL', \"MSFT\", \"AMZN\", \"TSLA\", \"GOOGL\", \"NVDA\", \"META\"])\n",
    "stocks.columns = [\"Ticker\"]\n",
    "stocks"
   ]
  },
  {
   "cell_type": "code",
   "execution_count": 63,
   "id": "83b69048",
   "metadata": {},
   "outputs": [
    {
     "data": {
      "text/plain": [
       "{'companyName': 'Apple Inc',\n",
       " 'marketcap': 2463347358156,\n",
       " 'week52high': 184,\n",
       " 'week52low': 134.62,\n",
       " 'week52highSplitAdjustOnly': 187.1,\n",
       " 'week52lowSplitAdjustOnly': 129.68,\n",
       " 'week52change': 0.03097484473578523,\n",
       " 'sharesOutstanding': 16093975883,\n",
       " 'float': 0,\n",
       " 'avg10Volume': 110044709,\n",
       " 'avg30Volume': 95414363,\n",
       " 'day200MovingAvg': 161.23,\n",
       " 'day50MovingAvg': 162.99,\n",
       " 'employees': 147016,\n",
       " 'ttmEPS': 6.18,\n",
       " 'ttmDividendRate': 0.9364068652339098,\n",
       " 'dividendYield': 0.006198975959801503,\n",
       " 'nextDividendDate': '',\n",
       " 'exDividendDate': '2022-07-28',\n",
       " 'nextEarningsDate': '2022-10-14',\n",
       " 'peRatio': 24.62331097213955,\n",
       " 'beta': 1.2472743483862492,\n",
       " 'maxChangePercent': 57.30475270514673,\n",
       " 'year5ChangePercent': 3.196201835676483,\n",
       " 'year2ChangePercent': 0.4235091855147143,\n",
       " 'year1ChangePercent': 0.030829652043879344,\n",
       " 'ytdChangePercent': -0.15475529082368442,\n",
       " 'month6ChangePercent': -0.13614074160878975,\n",
       " 'month3ChangePercent': 0.0652127820145705,\n",
       " 'month1ChangePercent': -0.10349659301207738,\n",
       " 'day30ChangePercent': -0.11634263798779916,\n",
       " 'day5ChangePercent': -0.001806988685336811}"
      ]
     },
     "execution_count": 63,
     "metadata": {},
     "output_type": "execute_result"
    }
   ],
   "source": [
    "# API TOKEN\n",
    "from secrets import IEX_CLOUD_API_TOKEN\n",
    "\n",
    "# Make SAMPLE API Call for APPLE\n",
    "symbol = 'AAPL'\n",
    "\n",
    "# GET /stock/{symbol}/quote/{field}\n",
    "# stable <-> latest\n",
    "api_url = f'https://sandbox.iexapis.com/stable/stock/{symbol}/stats?token={IEX_CLOUD_API_TOKEN }'\n",
    "\n",
    "data = requests.get(api_url).json()\n",
    "data"
   ]
  },
  {
   "cell_type": "code",
   "execution_count": 49,
   "id": "98cf5053",
   "metadata": {},
   "outputs": [
    {
     "name": "stdout",
     "output_type": "stream",
     "text": [
      "0.029640107955066667\n"
     ]
    }
   ],
   "source": [
    "print(data['year1ChangePercent'])"
   ]
  },
  {
   "cell_type": "code",
   "execution_count": 60,
   "id": "c5f00319",
   "metadata": {},
   "outputs": [
    {
     "data": {
      "text/html": [
       "<div>\n",
       "<style scoped>\n",
       "    .dataframe tbody tr th:only-of-type {\n",
       "        vertical-align: middle;\n",
       "    }\n",
       "\n",
       "    .dataframe tbody tr th {\n",
       "        vertical-align: top;\n",
       "    }\n",
       "\n",
       "    .dataframe thead th {\n",
       "        text-align: right;\n",
       "    }\n",
       "</style>\n",
       "<table border=\"1\" class=\"dataframe\">\n",
       "  <thead>\n",
       "    <tr style=\"text-align: right;\">\n",
       "      <th></th>\n",
       "      <th>Ticker</th>\n",
       "      <th>PER</th>\n",
       "      <th>One Year Price Return</th>\n",
       "    </tr>\n",
       "  </thead>\n",
       "  <tbody>\n",
       "  </tbody>\n",
       "</table>\n",
       "</div>"
      ],
      "text/plain": [
       "Empty DataFrame\n",
       "Columns: [Ticker, PER, One Year Price Return]\n",
       "Index: []"
      ]
     },
     "execution_count": 60,
     "metadata": {},
     "output_type": "execute_result"
    }
   ],
   "source": [
    "# Add Stocks to Data Frame\n",
    "\n",
    "my_columns = ['Ticker', 'PER','One Year Price Return']\n",
    "final_df= pd.DataFrame(columns = my_columns)\n",
    "final_df"
   ]
  },
  {
   "cell_type": "code",
   "execution_count": 61,
   "id": "cc7b7016",
   "metadata": {},
   "outputs": [
    {
     "data": {
      "text/html": [
       "<div>\n",
       "<style scoped>\n",
       "    .dataframe tbody tr th:only-of-type {\n",
       "        vertical-align: middle;\n",
       "    }\n",
       "\n",
       "    .dataframe tbody tr th {\n",
       "        vertical-align: top;\n",
       "    }\n",
       "\n",
       "    .dataframe thead th {\n",
       "        text-align: right;\n",
       "    }\n",
       "</style>\n",
       "<table border=\"1\" class=\"dataframe\">\n",
       "  <thead>\n",
       "    <tr style=\"text-align: right;\">\n",
       "      <th></th>\n",
       "      <th>Ticker</th>\n",
       "      <th>PER</th>\n",
       "      <th>One Year Price Return</th>\n",
       "    </tr>\n",
       "  </thead>\n",
       "  <tbody>\n",
       "    <tr>\n",
       "      <th>0</th>\n",
       "      <td>AAPL</td>\n",
       "      <td>24.837461</td>\n",
       "      <td>0.030279</td>\n",
       "    </tr>\n",
       "  </tbody>\n",
       "</table>\n",
       "</div>"
      ],
      "text/plain": [
       "  Ticker        PER  One Year Price Return\n",
       "0   AAPL  24.837461               0.030279"
      ]
     },
     "execution_count": 61,
     "metadata": {},
     "output_type": "execute_result"
    }
   ],
   "source": [
    "final_df = final_df.append(pd.Series(['AAPL', data['peRatio'], data['year1ChangePercent']], index = my_columns),\n",
    "                                        ignore_index = True)\n",
    "final_df"
   ]
  },
  {
   "cell_type": "code",
   "execution_count": 59,
   "id": "25b013f3",
   "metadata": {},
   "outputs": [
    {
     "data": {
      "text/html": [
       "<div>\n",
       "<style scoped>\n",
       "    .dataframe tbody tr th:only-of-type {\n",
       "        vertical-align: middle;\n",
       "    }\n",
       "\n",
       "    .dataframe tbody tr th {\n",
       "        vertical-align: top;\n",
       "    }\n",
       "\n",
       "    .dataframe thead th {\n",
       "        text-align: right;\n",
       "    }\n",
       "</style>\n",
       "<table border=\"1\" class=\"dataframe\">\n",
       "  <thead>\n",
       "    <tr style=\"text-align: right;\">\n",
       "      <th></th>\n",
       "      <th>Ticker</th>\n",
       "      <th>PER</th>\n",
       "      <th>One Year Price Return</th>\n",
       "    </tr>\n",
       "  </thead>\n",
       "  <tbody>\n",
       "    <tr>\n",
       "      <th>0</th>\n",
       "      <td>AAPL</td>\n",
       "      <td>24.728398</td>\n",
       "      <td>0.030826</td>\n",
       "    </tr>\n",
       "    <tr>\n",
       "      <th>1</th>\n",
       "      <td>MSFT</td>\n",
       "      <td>24.622808</td>\n",
       "      <td>0.030639</td>\n",
       "    </tr>\n",
       "    <tr>\n",
       "      <th>2</th>\n",
       "      <td>AMZN</td>\n",
       "      <td>24.833096</td>\n",
       "      <td>0.030002</td>\n",
       "    </tr>\n",
       "    <tr>\n",
       "      <th>3</th>\n",
       "      <td>TSLA</td>\n",
       "      <td>24.697345</td>\n",
       "      <td>0.030970</td>\n",
       "    </tr>\n",
       "    <tr>\n",
       "      <th>4</th>\n",
       "      <td>GOOGL</td>\n",
       "      <td>24.469462</td>\n",
       "      <td>0.031103</td>\n",
       "    </tr>\n",
       "    <tr>\n",
       "      <th>5</th>\n",
       "      <td>NVDA</td>\n",
       "      <td>24.710381</td>\n",
       "      <td>0.030528</td>\n",
       "    </tr>\n",
       "    <tr>\n",
       "      <th>6</th>\n",
       "      <td>META</td>\n",
       "      <td>24.837461</td>\n",
       "      <td>0.030279</td>\n",
       "    </tr>\n",
       "  </tbody>\n",
       "</table>\n",
       "</div>"
      ],
      "text/plain": [
       "  Ticker        PER  One Year Price Return\n",
       "0   AAPL  24.728398               0.030826\n",
       "1   MSFT  24.622808               0.030639\n",
       "2   AMZN  24.833096               0.030002\n",
       "3   TSLA  24.697345               0.030970\n",
       "4  GOOGL  24.469462               0.031103\n",
       "5   NVDA  24.710381               0.030528\n",
       "6   META  24.837461               0.030279"
      ]
     },
     "execution_count": 59,
     "metadata": {},
     "output_type": "execute_result"
    }
   ],
   "source": [
    "# Create API call for each stock\n",
    "final_df = pd.DataFrame(columns = my_columns)\n",
    "for stock in stocks['Ticker']:\n",
    "    api_url = f'https://sandbox.iexapis.com/stable/stock/{symbol}/stats?token={IEX_CLOUD_API_TOKEN }'\n",
    "    data = requests.get(api_url).json()\n",
    "    final_df = final_df.append(pd.Series([stock, data['peRatio'],data['year1ChangePercent']],index = my_columns), \n",
    "                                        ignore_index = True)\n",
    "final_df"
   ]
  },
  {
   "cell_type": "code",
   "execution_count": 1,
   "id": "0e299107",
   "metadata": {},
   "outputs": [
    {
     "ename": "NameError",
     "evalue": "name 'IEX_CLOUD_API_TOKEN' is not defined",
     "output_type": "error",
     "traceback": [
      "\u001b[0;31m---------------------------------------------------------------------------\u001b[0m",
      "\u001b[0;31mNameError\u001b[0m                                 Traceback (most recent call last)",
      "\u001b[0;32m/var/folders/3m/x3f70vjj2y588096qxf43zn00000gp/T/ipykernel_37199/3997146064.py\u001b[0m in \u001b[0;36m<module>\u001b[0;34m\u001b[0m\n\u001b[1;32m      1\u001b[0m \u001b[0;31m# Batch API Calls\u001b[0m\u001b[0;34m\u001b[0m\u001b[0;34m\u001b[0m\u001b[0m\n\u001b[0;32m----> 2\u001b[0;31m \u001b[0maapl_api\u001b[0m \u001b[0;34m=\u001b[0m \u001b[0;34mf'https://cloud.iexapis.com/stable/tops?token={IEX_CLOUD_API_TOKEN }&symbols=aapl'\u001b[0m\u001b[0;34m\u001b[0m\u001b[0;34m\u001b[0m\u001b[0m\n\u001b[0m\u001b[1;32m      3\u001b[0m \u001b[0mdata\u001b[0m \u001b[0;34m=\u001b[0m \u001b[0mrequests\u001b[0m\u001b[0;34m.\u001b[0m\u001b[0mget\u001b[0m\u001b[0;34m(\u001b[0m\u001b[0maapl_api\u001b[0m\u001b[0;34m)\u001b[0m\u001b[0;34m.\u001b[0m\u001b[0mjson\u001b[0m\u001b[0;34m(\u001b[0m\u001b[0;34m)\u001b[0m\u001b[0;34m\u001b[0m\u001b[0;34m\u001b[0m\u001b[0m\n\u001b[1;32m      4\u001b[0m \u001b[0;34m\u001b[0m\u001b[0m\n\u001b[1;32m      5\u001b[0m \u001b[0mdata\u001b[0m\u001b[0;34m\u001b[0m\u001b[0;34m\u001b[0m\u001b[0m\n",
      "\u001b[0;31mNameError\u001b[0m: name 'IEX_CLOUD_API_TOKEN' is not defined"
     ]
    }
   ],
   "source": [
    "# Batch API Calls\n",
    "aapl_api = f'https://cloud.iexapis.com/stable/tops?token={IEX_CLOUD_API_TOKEN }&symbols=aapl'\n",
    "data = requests.get(aapl_api).json()\n",
    "\n",
    "data"
   ]
  },
  {
   "cell_type": "code",
   "execution_count": null,
   "id": "f12644cc",
   "metadata": {},
   "outputs": [],
   "source": []
  }
 ],
 "metadata": {
  "kernelspec": {
   "display_name": "Python 3 (ipykernel)",
   "language": "python",
   "name": "python3"
  },
  "language_info": {
   "codemirror_mode": {
    "name": "ipython",
    "version": 3
   },
   "file_extension": ".py",
   "mimetype": "text/x-python",
   "name": "python",
   "nbconvert_exporter": "python",
   "pygments_lexer": "ipython3",
   "version": "3.9.7"
  }
 },
 "nbformat": 4,
 "nbformat_minor": 5
}
